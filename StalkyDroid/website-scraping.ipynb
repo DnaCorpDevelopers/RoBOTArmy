{
 "cells": [
  {
   "cell_type": "code",
   "execution_count": 6,
   "metadata": {},
   "outputs": [
    {
     "name": "stdout",
     "output_type": "stream",
     "text": [
      "Requirement already satisfied: requests in /home/dna/anaconda3/envs/discord/lib/python3.5/site-packages (2.19.1)\n",
      "Requirement already satisfied: beautifulsoup4 in /home/dna/anaconda3/envs/discord/lib/python3.5/site-packages (4.6.0)\n",
      "Requirement already satisfied: urllib3<1.24,>=1.21.1 in /home/dna/anaconda3/envs/discord/lib/python3.5/site-packages (from requests) (1.23)\n",
      "Requirement already satisfied: certifi>=2017.4.17 in /home/dna/anaconda3/envs/discord/lib/python3.5/site-packages (from requests) (2018.4.16)\n",
      "Requirement already satisfied: chardet<3.1.0,>=3.0.2 in /home/dna/anaconda3/envs/discord/lib/python3.5/site-packages (from requests) (3.0.4)\n",
      "Requirement already satisfied: idna<2.8,>=2.5 in /home/dna/anaconda3/envs/discord/lib/python3.5/site-packages (from requests) (2.7)\n"
     ]
    }
   ],
   "source": [
    "!pip install requests beautifulsoup4"
   ]
  },
  {
   "cell_type": "code",
   "execution_count": 7,
   "metadata": {},
   "outputs": [],
   "source": [
    "from bs4 import BeautifulSoup\n",
    "import requests"
   ]
  },
  {
   "cell_type": "code",
   "execution_count": 3,
   "metadata": {},
   "outputs": [],
   "source": [
    "url = 'https://forum.egosoft.com/search.php?search_author=Tolihama'"
   ]
  },
  {
   "cell_type": "code",
   "execution_count": 8,
   "metadata": {},
   "outputs": [],
   "source": [
    "response = requests.get(url)"
   ]
  },
  {
   "cell_type": "code",
   "execution_count": 10,
   "metadata": {},
   "outputs": [],
   "source": [
    "content = BeautifulSoup(response.content, 'html5lib')"
   ]
  },
  {
   "cell_type": "code",
   "execution_count": 21,
   "metadata": {},
   "outputs": [],
   "source": [
    "posts = []\n",
    "searchPages = []\n",
    "\n",
    "for a in content.find_all('a'):\n",
    "    if a.has_attr('href'):\n",
    "        href = a['href']\n",
    "        if 'p=' in href:\n",
    "            posts.append(href)\n",
    "        if 'search_id=' in href:\n",
    "            searchPages.append(href)"
   ]
  },
  {
   "cell_type": "code",
   "execution_count": 22,
   "metadata": {},
   "outputs": [
    {
     "data": {
      "text/plain": [
       "['viewtopic.php?p=4718269&highlight=#4718269',\n",
       " 'viewtopic.php?p=4715608&highlight=#4715608',\n",
       " 'viewtopic.php?p=4705805&highlight=#4705805',\n",
       " 'viewtopic.php?p=4695020&highlight=#4695020',\n",
       " 'viewtopic.php?p=4693515&highlight=#4693515',\n",
       " 'viewtopic.php?p=4692568&highlight=#4692568',\n",
       " 'viewtopic.php?p=4691379&highlight=#4691379',\n",
       " 'viewtopic.php?p=4690428&highlight=#4690428',\n",
       " 'viewtopic.php?p=4685720&highlight=#4685720',\n",
       " 'viewtopic.php?p=4684188&highlight=#4684188',\n",
       " 'viewtopic.php?p=4683920&highlight=#4683920',\n",
       " 'viewtopic.php?p=4683607&highlight=#4683607',\n",
       " 'viewtopic.php?p=4683600&highlight=#4683600',\n",
       " 'viewtopic.php?p=4683467&highlight=#4683467',\n",
       " 'viewtopic.php?p=4683350&highlight=#4683350']"
      ]
     },
     "execution_count": 22,
     "metadata": {},
     "output_type": "execute_result"
    }
   ],
   "source": [
    "posts"
   ]
  },
  {
   "cell_type": "code",
   "execution_count": 23,
   "metadata": {},
   "outputs": [
    {
     "data": {
      "text/plain": [
       "['search.php?search_id=202700692&start=15',\n",
       " 'search.php?search_id=202700692&start=30',\n",
       " 'search.php?search_id=202700692&start=5100',\n",
       " 'search.php?search_id=202700692&start=5115',\n",
       " 'search.php?search_id=202700692&start=5130',\n",
       " 'search.php?search_id=202700692&start=15']"
      ]
     },
     "execution_count": 23,
     "metadata": {},
     "output_type": "execute_result"
    }
   ],
   "source": [
    "searchPages"
   ]
  },
  {
   "cell_type": "code",
   "execution_count": 24,
   "metadata": {},
   "outputs": [],
   "source": [
    "post = posts[0]"
   ]
  },
  {
   "cell_type": "code",
   "execution_count": 33,
   "metadata": {},
   "outputs": [],
   "source": [
    "postId = post.split('#')[1]"
   ]
  },
  {
   "cell_type": "code",
   "execution_count": 44,
   "metadata": {},
   "outputs": [
    {
     "data": {
      "text/plain": [
       "'4718269'"
      ]
     },
     "execution_count": 44,
     "metadata": {},
     "output_type": "execute_result"
    }
   ],
   "source": [
    "postId"
   ]
  },
  {
   "cell_type": "code",
   "execution_count": 26,
   "metadata": {},
   "outputs": [],
   "source": [
    "postResponse = requests.get('https://forum.egosoft.com/' + post)"
   ]
  },
  {
   "cell_type": "code",
   "execution_count": 53,
   "metadata": {},
   "outputs": [],
   "source": [
    "postContent = BeautifulSoup(postResponse.content, 'html5lib')"
   ]
  },
  {
   "cell_type": "code",
   "execution_count": 54,
   "metadata": {},
   "outputs": [
    {
     "data": {
      "text/plain": [
       "'viewtopic.php?p=4718269&highlight=#4718269'"
      ]
     },
     "execution_count": 54,
     "metadata": {},
     "output_type": "execute_result"
    }
   ],
   "source": [
    "post"
   ]
  },
  {
   "cell_type": "code",
   "execution_count": 62,
   "metadata": {},
   "outputs": [],
   "source": [
    "anchorPost = postContent.find('a', {'name': postId})"
   ]
  },
  {
   "cell_type": "code",
   "execution_count": 63,
   "metadata": {},
   "outputs": [
    {
     "data": {
      "text/plain": [
       "<a name=\"4718269\"></a>"
      ]
     },
     "execution_count": 63,
     "metadata": {},
     "output_type": "execute_result"
    }
   ],
   "source": [
    "anchorPost"
   ]
  },
  {
   "cell_type": "code",
   "execution_count": 87,
   "metadata": {},
   "outputs": [],
   "source": [
    "postRow = anchorPost.parent.parent.parent"
   ]
  },
  {
   "cell_type": "code",
   "execution_count": 94,
   "metadata": {},
   "outputs": [],
   "source": [
    "postbody = postRow.find_all('span', {'class': 'postbody'})\n",
    "postdetails = postRow.find_all('span', {'class': 'postdetails'})"
   ]
  },
  {
   "cell_type": "code",
   "execution_count": 95,
   "metadata": {},
   "outputs": [
    {
     "data": {
      "text/plain": [
       "<span class=\"postbody\">Lo dici a noi?  <img alt=\"Laughing\" border=\"0\" src=\"images/smiles/icon_lol.gif\"/><br/></span>"
      ]
     },
     "execution_count": 95,
     "metadata": {},
     "output_type": "execute_result"
    }
   ],
   "source": [
    "postbody[0]"
   ]
  },
  {
   "cell_type": "code",
   "execution_count": 98,
   "metadata": {},
   "outputs": [
    {
     "data": {
      "text/plain": [
       "<span class=\"postdetails\">Posted: Sat, 14. Jul 18, 09:38<span class=\"gen\"> </span>   Post subject: </span>"
      ]
     },
     "execution_count": 98,
     "metadata": {},
     "output_type": "execute_result"
    }
   ],
   "source": [
    "postdetails[1]"
   ]
  },
  {
   "cell_type": "code",
   "execution_count": null,
   "metadata": {},
   "outputs": [],
   "source": []
  }
 ],
 "metadata": {
  "kernelspec": {
   "display_name": "Python 3",
   "language": "python",
   "name": "python3"
  },
  "language_info": {
   "codemirror_mode": {
    "name": "ipython",
    "version": 3
   },
   "file_extension": ".py",
   "mimetype": "text/x-python",
   "name": "python",
   "nbconvert_exporter": "python",
   "pygments_lexer": "ipython3",
   "version": "3.5.5"
  }
 },
 "nbformat": 4,
 "nbformat_minor": 2
}
