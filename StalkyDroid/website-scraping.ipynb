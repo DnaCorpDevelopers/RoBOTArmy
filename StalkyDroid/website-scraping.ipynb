{
 "cells": [
  {
   "cell_type": "code",
   "execution_count": null,
   "metadata": {},
   "outputs": [],
   "source": [
    "!pip install requests beautifulsoup4"
   ]
  },
  {
   "cell_type": "code",
   "execution_count": 1,
   "metadata": {},
   "outputs": [],
   "source": [
    "from bs4 import BeautifulSoup\n",
    "import requests"
   ]
  },
  {
   "cell_type": "code",
   "execution_count": 2,
   "metadata": {},
   "outputs": [],
   "source": [
    "url = 'https://forum.egosoft.com/search.php?search_author=j.harshaw'"
   ]
  },
  {
   "cell_type": "code",
   "execution_count": 3,
   "metadata": {},
   "outputs": [],
   "source": [
    "response = requests.get(url)"
   ]
  },
  {
   "cell_type": "code",
   "execution_count": 4,
   "metadata": {},
   "outputs": [],
   "source": [
    "content = BeautifulSoup(response.content, 'html5lib')"
   ]
  },
  {
   "cell_type": "code",
   "execution_count": 5,
   "metadata": {},
   "outputs": [],
   "source": [
    "posts = []\n",
    "searchPages = []\n",
    "\n",
    "for a in content.find_all('a'):\n",
    "    if a.has_attr('href'):\n",
    "        href = a['href']\n",
    "        if 'p=' in href:\n",
    "            posts.append(href)\n",
    "        if 'search_id=' in href:\n",
    "            searchPages.append(href)"
   ]
  },
  {
   "cell_type": "code",
   "execution_count": 6,
   "metadata": {},
   "outputs": [
    {
     "data": {
      "text/plain": [
       "['viewtopic.php?p=4719880&highlight=#4719880',\n",
       " 'viewtopic.php?p=4719838&highlight=#4719838',\n",
       " 'viewtopic.php?p=4715880&highlight=#4715880',\n",
       " 'viewtopic.php?p=4715874&highlight=#4715874',\n",
       " 'viewtopic.php?p=4715864&highlight=#4715864',\n",
       " 'viewtopic.php?p=4715724&highlight=#4715724',\n",
       " 'viewtopic.php?p=4715331&highlight=#4715331',\n",
       " 'viewtopic.php?p=4715259&highlight=#4715259',\n",
       " 'viewtopic.php?p=4713789&highlight=#4713789',\n",
       " 'viewtopic.php?p=4712921&highlight=#4712921',\n",
       " 'viewtopic.php?p=4712915&highlight=#4712915',\n",
       " 'viewtopic.php?p=4712897&highlight=#4712897',\n",
       " 'viewtopic.php?p=4711346&highlight=#4711346',\n",
       " 'viewtopic.php?p=4706236&highlight=#4706236',\n",
       " 'viewtopic.php?p=4706177&highlight=#4706177']"
      ]
     },
     "execution_count": 6,
     "metadata": {},
     "output_type": "execute_result"
    }
   ],
   "source": [
    "posts"
   ]
  },
  {
   "cell_type": "code",
   "execution_count": 7,
   "metadata": {},
   "outputs": [
    {
     "data": {
      "text/plain": [
       "['search.php?search_id=517578610&start=15',\n",
       " 'search.php?search_id=517578610&start=30',\n",
       " 'search.php?search_id=517578610&start=45',\n",
       " 'search.php?search_id=517578610&start=60',\n",
       " 'search.php?search_id=517578610&start=75',\n",
       " 'search.php?search_id=517578610&start=90',\n",
       " 'search.php?search_id=517578610&start=105',\n",
       " 'search.php?search_id=517578610&start=120',\n",
       " 'search.php?search_id=517578610&start=15']"
      ]
     },
     "execution_count": 7,
     "metadata": {},
     "output_type": "execute_result"
    }
   ],
   "source": [
    "searchPages"
   ]
  },
  {
   "cell_type": "code",
   "execution_count": 19,
   "metadata": {},
   "outputs": [],
   "source": [
    "post = posts[1]"
   ]
  },
  {
   "cell_type": "code",
   "execution_count": 20,
   "metadata": {},
   "outputs": [],
   "source": [
    "postId = post.split('#')[1]"
   ]
  },
  {
   "cell_type": "code",
   "execution_count": 21,
   "metadata": {},
   "outputs": [
    {
     "data": {
      "text/plain": [
       "'4719838'"
      ]
     },
     "execution_count": 21,
     "metadata": {},
     "output_type": "execute_result"
    }
   ],
   "source": [
    "postId"
   ]
  },
  {
   "cell_type": "code",
   "execution_count": 22,
   "metadata": {},
   "outputs": [],
   "source": [
    "postResponse = requests.get('https://forum.egosoft.com/' + post)"
   ]
  },
  {
   "cell_type": "code",
   "execution_count": 23,
   "metadata": {},
   "outputs": [],
   "source": [
    "postContent = BeautifulSoup(postResponse.content, 'html5lib')"
   ]
  },
  {
   "cell_type": "code",
   "execution_count": 24,
   "metadata": {},
   "outputs": [
    {
     "data": {
      "text/plain": [
       "'viewtopic.php?p=4719838&highlight=#4719838'"
      ]
     },
     "execution_count": 24,
     "metadata": {},
     "output_type": "execute_result"
    }
   ],
   "source": [
    "post"
   ]
  },
  {
   "cell_type": "code",
   "execution_count": 25,
   "metadata": {},
   "outputs": [],
   "source": [
    "anchorPost = postContent.find('a', {'name': postId})"
   ]
  },
  {
   "cell_type": "code",
   "execution_count": 26,
   "metadata": {},
   "outputs": [
    {
     "data": {
      "text/plain": [
       "<a name=\"4719838\"></a>"
      ]
     },
     "execution_count": 26,
     "metadata": {},
     "output_type": "execute_result"
    }
   ],
   "source": [
    "anchorPost"
   ]
  },
  {
   "cell_type": "code",
   "execution_count": 27,
   "metadata": {},
   "outputs": [],
   "source": [
    "postRow = anchorPost.parent.parent.parent"
   ]
  },
  {
   "cell_type": "code",
   "execution_count": 28,
   "metadata": {},
   "outputs": [],
   "source": [
    "postbody = postRow.find_all('span', {'class': 'postbody'})\n",
    "postdetails = postRow.find_all('span', {'class': 'postdetails'})"
   ]
  },
  {
   "cell_type": "code",
   "execution_count": 43,
   "metadata": {},
   "outputs": [
    {
     "name": "stdout",
     "output_type": "stream",
     "text": [
      "Posted: Wed, 25. Jul 18, 16:33    Post subject: Re: Bunch of technical questions related to weapons/shields\n"
     ]
    }
   ],
   "source": [
    "postdetail = postdetails[1]"
   ]
  },
  {
   "cell_type": "code",
   "execution_count": 44,
   "metadata": {},
   "outputs": [],
   "source": [
    "import re"
   ]
  },
  {
   "cell_type": "code",
   "execution_count": 53,
   "metadata": {},
   "outputs": [
    {
     "name": "stdout",
     "output_type": "stream",
     "text": [
      "Wed, 25. Jul 18, 16:33\n",
      "Re: Bunch of technical questions related to weapons/shields\n"
     ]
    }
   ],
   "source": [
    "x = re.findall('Posted: (.+)Post subject: (.+)', postdetail.text)[0]\n",
    "print(x[0].rstrip()) # publication date\n",
    "print(x[1].rstrip()) # topic title"
   ]
  },
  {
   "cell_type": "code",
   "execution_count": null,
   "metadata": {},
   "outputs": [],
   "source": []
  },
  {
   "cell_type": "code",
   "execution_count": 37,
   "metadata": {},
   "outputs": [
    {
     "name": "stdout",
     "output_type": "stream",
     "text": [
      "\n",
      "-----------------------\n",
      "\n",
      "\n",
      "Yes. Number of guns, engines, shield generators, turrets that can be installed is defined on the hull.\n",
      "-----------------------\n",
      "\n",
      "\n",
      "Yes, but not sure if you can assign firing of each group to different keys.  There are certainly two groups that are assigned to different keys.  But i think you have to switch between groups before being able to use a key to fire weapons in that group.  Any given weapon can be in several groups.  Not all groups have to be populated.\n",
      "-----------------------\n",
      "\n",
      "\n",
      "At the moment, ship hulls have missile storage which are internal bays only for missiles.\n",
      "-----------------------\n",
      "\n",
      "\n",
      "All ships that fire missiles currently use ammunition and cannot do so when they run out.\n",
      "-----------------------\n",
      "\n",
      "\n",
      "Not sure i understand your question?  Each ship can have a certain number of shield generators (variable, but max depends on the hull), each shield generator is rated to a certain amount of joules, total effect is cumulative EXCEPT for smaller shield generators that only protect a smaller number of subcomponents.\n",
      "-----------------------\n",
      "\n",
      "\n",
      "Don't know, sorry.\n",
      "-----------------------\n",
      "\n",
      "\n",
      "The AI currently has a mode for this, but we haven't decided on an interface for the player to activate it yet, so it might still go away.  Countermeasures are also in, these are in addition to turrets doing missile defence.\n",
      "-----------------------\n",
      "\n",
      "-----------------------\n"
     ]
    }
   ],
   "source": [
    "for pb in postbody:\n",
    "    print(pb.text.rstrip())\n",
    "    print('-----------------------')"
   ]
  },
  {
   "cell_type": "code",
   "execution_count": 54,
   "metadata": {},
   "outputs": [
    {
     "data": {
      "text/plain": [
       "[<span class=\"postbody\"></span>, <span class=\"postbody\">\n",
       " <br/>\n",
       " Yes. Number of guns, engines, shield generators, turrets that can be installed is defined on the hull.\n",
       " <br/>\n",
       " \n",
       " <br/>\n",
       " </span>, <span class=\"postbody\">\n",
       " <br/>\n",
       " Yes, but not sure if you can assign firing of each group to different keys.  There are certainly two groups that are assigned to different keys.  But i think you have to switch between groups before being able to use a key to fire weapons in that group.  Any given weapon can be in several groups.  Not all groups have to be populated.\n",
       " <br/>\n",
       " \n",
       " <br/>\n",
       " </span>, <span class=\"postbody\">\n",
       " <br/>\n",
       " At the moment, ship hulls have missile storage which are internal bays only for missiles.\n",
       " <br/>\n",
       " \n",
       " <br/>\n",
       " </span>, <span class=\"postbody\">\n",
       " <br/>\n",
       " All ships that fire missiles currently use ammunition and cannot do so when they run out.\n",
       " <br/>\n",
       " \n",
       " <br/>\n",
       " </span>, <span class=\"postbody\">\n",
       " <br/>\n",
       " Not sure i understand your question?  Each ship can have a certain number of shield generators (variable, but max depends on the hull), each shield generator is rated to a certain amount of joules, total effect is cumulative EXCEPT for smaller shield generators that only protect a smaller number of subcomponents.\n",
       " <br/>\n",
       " \n",
       " <br/>\n",
       " </span>, <span class=\"postbody\">\n",
       " <br/>\n",
       " Don't know, sorry.\n",
       " <br/>\n",
       " \n",
       " <br/>\n",
       " </span>, <span class=\"postbody\">\n",
       " <br/>\n",
       " The AI currently has a mode for this, but we haven't decided on an interface for the player to activate it yet, so it might still go away.  Countermeasures are also in, these are in addition to turrets doing missile defence.<br/></span>, <span class=\"postbody\"><br/></span>]"
      ]
     },
     "execution_count": 54,
     "metadata": {},
     "output_type": "execute_result"
    }
   ],
   "source": [
    "postbody"
   ]
  },
  {
   "cell_type": "code",
   "execution_count": 56,
   "metadata": {},
   "outputs": [
    {
     "name": "stdout",
     "output_type": "stream",
     "text": [
      "\n",
      "\n",
      "<br/>\n",
      "\n",
      "Yes. Number of guns, engines, shield generators, turrets that can be installed is defined on the hull.\n",
      "\n",
      "<br/>\n",
      "\n",
      "\n",
      "\n",
      "<br/>\n",
      "\n",
      "\n",
      "\n",
      "\n",
      "<br/>\n",
      "\n",
      "Yes, but not sure if you can assign firing of each group to different keys.  There are certainly two groups that are assigned to different keys.  But i think you have to switch between groups before being able to use a key to fire weapons in that group.  Any given weapon can be in several groups.  Not all groups have to be populated.\n",
      "\n",
      "<br/>\n",
      "\n",
      "\n",
      "\n",
      "<br/>\n",
      "\n",
      "\n",
      "\n",
      "\n",
      "<br/>\n",
      "\n",
      "At the moment, ship hulls have missile storage which are internal bays only for missiles.\n",
      "\n",
      "<br/>\n",
      "\n",
      "\n",
      "\n",
      "<br/>\n",
      "\n",
      "\n",
      "\n",
      "\n",
      "<br/>\n",
      "\n",
      "All ships that fire missiles currently use ammunition and cannot do so when they run out.\n",
      "\n",
      "<br/>\n",
      "\n",
      "\n",
      "\n",
      "<br/>\n",
      "\n",
      "\n",
      "\n",
      "\n",
      "<br/>\n",
      "\n",
      "Not sure i understand your question?  Each ship can have a certain number of shield generators (variable, but max depends on the hull), each shield generator is rated to a certain amount of joules, total effect is cumulative EXCEPT for smaller shield generators that only protect a smaller number of subcomponents.\n",
      "\n",
      "<br/>\n",
      "\n",
      "\n",
      "\n",
      "<br/>\n",
      "\n",
      "\n",
      "\n",
      "\n",
      "<br/>\n",
      "\n",
      "Don't know, sorry.\n",
      "\n",
      "<br/>\n",
      "\n",
      "\n",
      "\n",
      "<br/>\n",
      "\n",
      "\n",
      "\n",
      "\n",
      "<br/>\n",
      "\n",
      "The AI currently has a mode for this, but we haven't decided on an interface for the player to activate it yet, so it might still go away.  Countermeasures are also in, these are in addition to turrets doing missile defence.\n",
      "<br/>\n",
      "<br/>\n"
     ]
    }
   ],
   "source": [
    "for pb in postbody:\n",
    "    for c in pb.children:\n",
    "        print(c)"
   ]
  },
  {
   "cell_type": "code",
   "execution_count": null,
   "metadata": {},
   "outputs": [],
   "source": []
  }
 ],
 "metadata": {
  "kernelspec": {
   "display_name": "Python 3",
   "language": "python",
   "name": "python3"
  },
  "language_info": {
   "codemirror_mode": {
    "name": "ipython",
    "version": 3
   },
   "file_extension": ".py",
   "mimetype": "text/x-python",
   "name": "python",
   "nbconvert_exporter": "python",
   "pygments_lexer": "ipython3",
   "version": "3.5.5"
  }
 },
 "nbformat": 4,
 "nbformat_minor": 2
}
