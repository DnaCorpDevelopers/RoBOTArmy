{
 "cells": [
  {
   "cell_type": "code",
   "execution_count": null,
   "metadata": {},
   "outputs": [],
   "source": [
    "!pip install requests beautifulsoup4"
   ]
  },
  {
   "cell_type": "code",
   "execution_count": 1,
   "metadata": {},
   "outputs": [],
   "source": [
    "from bs4 import BeautifulSoup\n",
    "import requests\n",
    "import re\n",
    "from pprint import pprint"
   ]
  },
  {
   "cell_type": "code",
   "execution_count": 2,
   "metadata": {},
   "outputs": [],
   "source": [
    "with open('resources/members.txt', 'r') as f:\n",
    "    members = f.read().splitlines() "
   ]
  },
  {
   "cell_type": "code",
   "execution_count": 3,
   "metadata": {},
   "outputs": [],
   "source": [
    "URL_ROOT = 'https://forum.egosoft.com/'\n",
    "URL_FORUM = 'viewforum.php?f='\n",
    "URL_TOPIC = 'viewtopic.php?t='\n",
    "FORUM_X4 = '146'"
   ]
  },
  {
   "cell_type": "markdown",
   "metadata": {},
   "source": [
    "Parse main page"
   ]
  },
  {
   "cell_type": "code",
   "execution_count": 4,
   "metadata": {},
   "outputs": [],
   "source": [
    "response = requests.get(URL_ROOT + URL_FORUM + FORUM_X4)"
   ]
  },
  {
   "cell_type": "code",
   "execution_count": 5,
   "metadata": {},
   "outputs": [],
   "source": [
    "content = BeautifulSoup(response.content, 'html5lib')"
   ]
  },
  {
   "cell_type": "code",
   "execution_count": 6,
   "metadata": {},
   "outputs": [],
   "source": [
    "topicsRaw = content.findAll(['a'], {'class': 'topictitle'})"
   ]
  },
  {
   "cell_type": "code",
   "execution_count": 7,
   "metadata": {},
   "outputs": [],
   "source": [
    "import re"
   ]
  },
  {
   "cell_type": "code",
   "execution_count": 8,
   "metadata": {},
   "outputs": [],
   "source": [
    "def topicInfo(topic):\n",
    "    m = re.search('.*t=(\\d*).*', topic['href'])    \n",
    "    return {\n",
    "        'id': m.group(1),\n",
    "        'title': topic.getText(),\n",
    "        'posts': topic.parent.parent.parent.find('dd',{'class','posts'}).getText().split(' ', 1)[0]\n",
    "    }"
   ]
  },
  {
   "cell_type": "code",
   "execution_count": 9,
   "metadata": {},
   "outputs": [],
   "source": [
    "topics = [topicInfo(t) for t in topicsRaw]"
   ]
  },
  {
   "cell_type": "code",
   "execution_count": 11,
   "metadata": {},
   "outputs": [],
   "source": [
    "topic = topics[0]"
   ]
  },
  {
   "cell_type": "code",
   "execution_count": 12,
   "metadata": {},
   "outputs": [
    {
     "data": {
      "text/plain": [
       "{'id': '400042', 'posts': '367', 'title': 'Screenshot of the Day'}"
      ]
     },
     "execution_count": 12,
     "metadata": {},
     "output_type": "execute_result"
    }
   ],
   "source": [
    "topic"
   ]
  },
  {
   "cell_type": "markdown",
   "metadata": {},
   "source": [
    "Parse topic pages"
   ]
  },
  {
   "cell_type": "code",
   "execution_count": 13,
   "metadata": {},
   "outputs": [
    {
     "data": {
      "text/plain": [
       "'https://forum.egosoft.com/viewtopic.php?t=400042&start=90'"
      ]
     },
     "execution_count": 13,
     "metadata": {},
     "output_type": "execute_result"
    }
   ],
   "source": [
    "URL_ROOT + URL_TOPIC + topic['id'] + '&start=90'"
   ]
  },
  {
   "cell_type": "code",
   "execution_count": 14,
   "metadata": {},
   "outputs": [],
   "source": [
    "tResponse = requests.get(URL_ROOT + URL_TOPIC + topic['id'] + '&start=90')"
   ]
  },
  {
   "cell_type": "code",
   "execution_count": 32,
   "metadata": {},
   "outputs": [],
   "source": [
    "tContent = BeautifulSoup(tResponse.content, 'html5lib')"
   ]
  },
  {
   "cell_type": "code",
   "execution_count": 33,
   "metadata": {},
   "outputs": [
    {
     "name": "stdout",
     "output_type": "stream",
     "text": [
      "CBJ\n",
      "X2-Illuminatus\n"
     ]
    }
   ],
   "source": [
    "blocksToConsider = []\n",
    "\n",
    "for n in tContent.findAll('p', {'class': 'author'}):\n",
    "    name = n.find('strong').getText().strip()\n",
    "    if name in members:\n",
    "        print (name)\n",
    "        blocksToConsider.append(n)"
   ]
  },
  {
   "cell_type": "code",
   "execution_count": 34,
   "metadata": {},
   "outputs": [],
   "source": [
    "blockToConsider = blocksToConsider[0]"
   ]
  },
  {
   "cell_type": "markdown",
   "metadata": {},
   "source": [
    "Parse block "
   ]
  },
  {
   "cell_type": "code",
   "execution_count": 35,
   "metadata": {},
   "outputs": [],
   "source": [
    "post = blockToConsider.parent"
   ]
  },
  {
   "cell_type": "code",
   "execution_count": 36,
   "metadata": {},
   "outputs": [],
   "source": [
    "postId = post['id'][12:]"
   ]
  },
  {
   "cell_type": "code",
   "execution_count": 37,
   "metadata": {},
   "outputs": [
    {
     "data": {
      "text/plain": [
       "'4730224'"
      ]
     },
     "execution_count": 37,
     "metadata": {},
     "output_type": "execute_result"
    }
   ],
   "source": [
    "postId"
   ]
  },
  {
   "cell_type": "code",
   "execution_count": 38,
   "metadata": {},
   "outputs": [
    {
     "name": "stdout",
     "output_type": "stream",
     "text": [
      "Sun, 16. Sep 18, 15:12\n"
     ]
    }
   ],
   "source": [
    "publicationDate = re.findall('» (.*)', post.find('p', {'class': 'author'}).getText().strip())[0]\n",
    "print(publicationDate)"
   ]
  },
  {
   "cell_type": "code",
   "execution_count": 39,
   "metadata": {},
   "outputs": [],
   "source": [
    "postBody = post.find('div', {'class': 'content'})"
   ]
  },
  {
   "cell_type": "code",
   "execution_count": 40,
   "metadata": {},
   "outputs": [],
   "source": [
    "children = [c for c in postBody.children]"
   ]
  },
  {
   "cell_type": "code",
   "execution_count": 41,
   "metadata": {},
   "outputs": [],
   "source": [
    "child = children[0]"
   ]
  },
  {
   "cell_type": "code",
   "execution_count": 84,
   "metadata": {},
   "outputs": [
    {
     "data": {
      "text/plain": [
       "['AkrionXxarr',\n",
       " 'Gotta say, just the idea of hanging out on that upper level and watching the M-sized docks from above as ships come and go is fairly appealing.']"
      ]
     },
     "execution_count": 84,
     "metadata": {},
     "output_type": "execute_result"
    }
   ],
   "source": [
    "child.getText().split(' wrote:')"
   ]
  },
  {
   "cell_type": "code",
   "execution_count": null,
   "metadata": {
    "scrolled": true
   },
   "outputs": [],
   "source": [
    "for c in postBody.children:\n",
    "    if str(c).strip() in ['', '<br/>']:\n",
    "        continue\n",
    "    \n",
    "    if c.findAll('cite'):\n",
    "        # quotation block\n",
    "        print('Author: ')\n",
    "    \n",
    "    print(c)\n",
    "    print('---------------------')"
   ]
  },
  {
   "cell_type": "code",
   "execution_count": 42,
   "metadata": {},
   "outputs": [
    {
     "data": {
      "text/plain": [
       "\"Intro\\n\\nOK, not daily but frequent! \\n\\nAs is old tradition around a release of a new X game, screenshots are a nice way to share some info as to what the game contains, even though his time around there are already many videos with footage and sound that show the game. The idea is to upload a screenshot regularly up to the release of X4 Foundations. We will add the screenshot here and also mention them as replies so that people get notifications if interested.\\n\\nYou are free to speculate and discuss the screenshots, but don't expect concrete answers. Even there might be some, its not a given.\\n\\n\\n\\nScreenshots\\n\\n\\n\\n\\n\\n\\n\\n\\n\\n\\n\\n\\n\\n\\n\\n\\n\\n\\n\\n\\n\\n\\n\\n\\n\\n\\n\\n\\n\\n\\n\\nLinks for more\\n\\n[INDEX] X4: Foundations - Announcement Reaction Q&A\\nX4 Announcement Trailer XCON 2017 (26/08/2017)\\n1st X4 Livestream: Gameplay and Q&A from XCON 2017 (English version;26/08/2017)\\n2nd X4 Livestream: Stations and Geography update, with Q&As (English only; 27/09/2017)\\n3rd X4 Livestream (13/12/2017)\\n\\n\\n\\n\""
      ]
     },
     "execution_count": 42,
     "metadata": {},
     "output_type": "execute_result"
    }
   ],
   "source": [
    "postBody.getText()"
   ]
  },
  {
   "cell_type": "code",
   "execution_count": 48,
   "metadata": {},
   "outputs": [
    {
     "name": "stdout",
     "output_type": "stream",
     "text": [
      "{'images': [],\n",
      " 'links': [],\n",
      " 'text': <blockquote><div><cite>AkrionXxarr wrote:</cite>Gotta say, just the idea of hanging out on that upper level and watching the M-sized docks from above as ships come and go is fairly appealing.</div></blockquote>,\n",
      " 'type': 'quote'}\n",
      "{'images': [],\n",
      " 'links': [],\n",
      " 'text': '\\n'\n",
      "         \"I don't think it would be giving away too much to say that I spent \"\n",
      "         'some time doing exactly this yesterday. It was indeed enjoyable; I '\n",
      "         'particularly liked the warning lights that started flashing before '\n",
      "         'an arriving ship was even visible, giving me a chance to look out '\n",
      "         'for it. I was also standing there when a fleet of small ships '\n",
      "         'arrived pretty much together, creating frantic activity at the '\n",
      "         'smaller docking bays.',\n",
      " 'type': 'text'}\n",
      "{'images': [],\n",
      " 'links': [],\n",
      " 'text': '\\n'\n",
      "         'Obviously things may change between now and release, but I would '\n",
      "         'expect the general principles to remain the same.',\n",
      " 'type': 'text'}\n"
     ]
    }
   ],
   "source": [
    "for pb in postBody.children:\n",
    "    if str(pb).strip() in ['', '<br/>']:\n",
    "        continue\n",
    "\n",
    "    chunk = {\n",
    "        'type': 'text',\n",
    "        'text': pb,\n",
    "        'images': [],\n",
    "        'links': []\n",
    "    }\n",
    "        \n",
    "    try:\n",
    "        if pb.findAll('cite'):\n",
    "            chunk['type'] = 'quote'\n",
    "\n",
    "        for img in pb.findAll('img'):\n",
    "            if 'smiles' not in img['src']:\n",
    "                chunk['images'].append(img['src'])\n",
    "\n",
    "        for a in pb.findAll('a', {'class': 'postlink'}):\n",
    "            chunk['links'].append(a)\n",
    "        \n",
    "    except AttributeError:\n",
    "        pass\n",
    "\n",
    "    pprint(chunk)"
   ]
  },
  {
   "cell_type": "markdown",
   "metadata": {},
   "source": [
    "If we reach the last page, the next one will produce a general error!"
   ]
  },
  {
   "cell_type": "code",
   "execution_count": 49,
   "metadata": {},
   "outputs": [
    {
     "data": {
      "text/plain": [
       "'400042'"
      ]
     },
     "execution_count": 49,
     "metadata": {},
     "output_type": "execute_result"
    }
   ],
   "source": [
    "topic['id']"
   ]
  },
  {
   "cell_type": "code",
   "execution_count": 50,
   "metadata": {},
   "outputs": [
    {
     "data": {
      "text/plain": [
       "'https://forum.egosoft.com/viewtopic.php?t=400042&start=100'"
      ]
     },
     "execution_count": 50,
     "metadata": {},
     "output_type": "execute_result"
    }
   ],
   "source": [
    "URL_ROOT + URL_TOPIC + topic['id'] + '&start=100'"
   ]
  },
  {
   "cell_type": "code",
   "execution_count": 51,
   "metadata": {},
   "outputs": [],
   "source": [
    "tResponse = requests.get(URL_ROOT + URL_TOPIC + topic['id'] + '&start=1000')"
   ]
  },
  {
   "cell_type": "code",
   "execution_count": 55,
   "metadata": {},
   "outputs": [
    {
     "data": {
      "text/plain": [
       "'https://forum.egosoft.com/viewtopic.php?t=400042&start=100'"
      ]
     },
     "execution_count": 55,
     "metadata": {},
     "output_type": "execute_result"
    }
   ],
   "source": [
    "URL_ROOT + URL_TOPIC + topic['id'] + '&start=1000'"
   ]
  },
  {
   "cell_type": "code",
   "execution_count": 52,
   "metadata": {},
   "outputs": [],
   "source": [
    "tContent = BeautifulSoup(tResponse.content, 'html5lib')"
   ]
  },
  {
   "cell_type": "code",
   "execution_count": 53,
   "metadata": {},
   "outputs": [
    {
     "data": {
      "text/plain": [
       "False"
      ]
     },
     "execution_count": 53,
     "metadata": {},
     "output_type": "execute_result"
    }
   ],
   "source": [
    "'General Error' in tContent.getText()"
   ]
  },
  {
   "cell_type": "code",
   "execution_count": 69,
   "metadata": {},
   "outputs": [
    {
     "data": {
      "text/plain": [
       "'369'"
      ]
     },
     "execution_count": 69,
     "metadata": {},
     "output_type": "execute_result"
    }
   ],
   "source": [
    "p = tContent.find('div', {'class': 'pagination'})\n",
    "re.search('(\\d+)', p.getText()).group(0)"
   ]
  },
  {
   "cell_type": "code",
   "execution_count": null,
   "metadata": {},
   "outputs": [],
   "source": []
  },
  {
   "cell_type": "code",
   "execution_count": 74,
   "metadata": {},
   "outputs": [
    {
     "data": {
      "text/plain": [
       "range(0, 367, 15)"
      ]
     },
     "execution_count": 74,
     "metadata": {},
     "output_type": "execute_result"
    }
   ],
   "source": [
    "range(0, int(topic['posts']), 15)"
   ]
  },
  {
   "cell_type": "code",
   "execution_count": 70,
   "metadata": {},
   "outputs": [],
   "source": [
    "n = 16"
   ]
  },
  {
   "cell_type": "code",
   "execution_count": 71,
   "metadata": {},
   "outputs": [
    {
     "data": {
      "text/plain": [
       "15"
      ]
     },
     "execution_count": 71,
     "metadata": {},
     "output_type": "execute_result"
    }
   ],
   "source": [
    "n - (n % 15)"
   ]
  },
  {
   "cell_type": "code",
   "execution_count": null,
   "metadata": {},
   "outputs": [],
   "source": []
  }
 ],
 "metadata": {
  "kernelspec": {
   "display_name": "Python 3",
   "language": "python",
   "name": "python3"
  },
  "language_info": {
   "codemirror_mode": {
    "name": "ipython",
    "version": 3
   },
   "file_extension": ".py",
   "mimetype": "text/x-python",
   "name": "python",
   "nbconvert_exporter": "python",
   "pygments_lexer": "ipython3",
   "version": "3.5.5"
  }
 },
 "nbformat": 4,
 "nbformat_minor": 2
}
