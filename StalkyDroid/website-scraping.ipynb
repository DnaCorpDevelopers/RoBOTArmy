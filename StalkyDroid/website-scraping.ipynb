{
 "cells": [
  {
   "cell_type": "code",
   "execution_count": null,
   "metadata": {},
   "outputs": [],
   "source": [
    "!pip install requests beautifulsoup4"
   ]
  },
  {
   "cell_type": "code",
   "execution_count": 1,
   "metadata": {},
   "outputs": [],
   "source": [
    "from bs4 import BeautifulSoup\n",
    "import requests"
   ]
  },
  {
   "cell_type": "code",
   "execution_count": 2,
   "metadata": {},
   "outputs": [],
   "source": [
    "url = 'https://forum.egosoft.com/search.php?search_author=j.harshaw'"
   ]
  },
  {
   "cell_type": "code",
   "execution_count": 3,
   "metadata": {},
   "outputs": [],
   "source": [
    "response = requests.get(url)"
   ]
  },
  {
   "cell_type": "code",
   "execution_count": 4,
   "metadata": {},
   "outputs": [],
   "source": [
    "content = BeautifulSoup(response.content, 'html5lib')"
   ]
  },
  {
   "cell_type": "code",
   "execution_count": 5,
   "metadata": {},
   "outputs": [],
   "source": [
    "posts = []\n",
    "searchPages = []\n",
    "\n",
    "for a in content.find_all('a'):\n",
    "    if a.has_attr('href'):\n",
    "        href = a['href']\n",
    "        if 'p=' in href:\n",
    "            posts.append(href)\n",
    "        if 'search_id=' in href:\n",
    "            searchPages.append(href)"
   ]
  },
  {
   "cell_type": "code",
   "execution_count": 6,
   "metadata": {},
   "outputs": [
    {
     "data": {
      "text/plain": [
       "['viewtopic.php?p=4719880&highlight=#4719880',\n",
       " 'viewtopic.php?p=4719838&highlight=#4719838',\n",
       " 'viewtopic.php?p=4715880&highlight=#4715880',\n",
       " 'viewtopic.php?p=4715874&highlight=#4715874',\n",
       " 'viewtopic.php?p=4715864&highlight=#4715864',\n",
       " 'viewtopic.php?p=4715724&highlight=#4715724',\n",
       " 'viewtopic.php?p=4715331&highlight=#4715331',\n",
       " 'viewtopic.php?p=4715259&highlight=#4715259',\n",
       " 'viewtopic.php?p=4713789&highlight=#4713789',\n",
       " 'viewtopic.php?p=4712921&highlight=#4712921',\n",
       " 'viewtopic.php?p=4712915&highlight=#4712915',\n",
       " 'viewtopic.php?p=4712897&highlight=#4712897',\n",
       " 'viewtopic.php?p=4711346&highlight=#4711346',\n",
       " 'viewtopic.php?p=4706236&highlight=#4706236',\n",
       " 'viewtopic.php?p=4706177&highlight=#4706177']"
      ]
     },
     "execution_count": 6,
     "metadata": {},
     "output_type": "execute_result"
    }
   ],
   "source": [
    "posts"
   ]
  },
  {
   "cell_type": "code",
   "execution_count": 7,
   "metadata": {},
   "outputs": [
    {
     "data": {
      "text/plain": [
       "['search.php?search_id=753128778&start=15',\n",
       " 'search.php?search_id=753128778&start=30',\n",
       " 'search.php?search_id=753128778&start=45',\n",
       " 'search.php?search_id=753128778&start=60',\n",
       " 'search.php?search_id=753128778&start=75',\n",
       " 'search.php?search_id=753128778&start=90',\n",
       " 'search.php?search_id=753128778&start=105',\n",
       " 'search.php?search_id=753128778&start=120',\n",
       " 'search.php?search_id=753128778&start=15']"
      ]
     },
     "execution_count": 7,
     "metadata": {},
     "output_type": "execute_result"
    }
   ],
   "source": [
    "searchPages"
   ]
  },
  {
   "cell_type": "code",
   "execution_count": 8,
   "metadata": {},
   "outputs": [],
   "source": [
    "post = posts[1]"
   ]
  },
  {
   "cell_type": "code",
   "execution_count": 9,
   "metadata": {},
   "outputs": [],
   "source": [
    "postId = post.split('#')[1]"
   ]
  },
  {
   "cell_type": "code",
   "execution_count": 10,
   "metadata": {},
   "outputs": [
    {
     "data": {
      "text/plain": [
       "'4719838'"
      ]
     },
     "execution_count": 10,
     "metadata": {},
     "output_type": "execute_result"
    }
   ],
   "source": [
    "postId"
   ]
  },
  {
   "cell_type": "code",
   "execution_count": 11,
   "metadata": {},
   "outputs": [],
   "source": [
    "postResponse = requests.get('https://forum.egosoft.com/' + post)"
   ]
  },
  {
   "cell_type": "code",
   "execution_count": 12,
   "metadata": {},
   "outputs": [],
   "source": [
    "postContent = BeautifulSoup(postResponse.content, 'html5lib')"
   ]
  },
  {
   "cell_type": "code",
   "execution_count": 13,
   "metadata": {},
   "outputs": [
    {
     "data": {
      "text/plain": [
       "'viewtopic.php?p=4719838&highlight=#4719838'"
      ]
     },
     "execution_count": 13,
     "metadata": {},
     "output_type": "execute_result"
    }
   ],
   "source": [
    "post"
   ]
  },
  {
   "cell_type": "code",
   "execution_count": 14,
   "metadata": {},
   "outputs": [],
   "source": [
    "anchorPost = postContent.find('a', {'name': postId})"
   ]
  },
  {
   "cell_type": "code",
   "execution_count": 15,
   "metadata": {},
   "outputs": [
    {
     "data": {
      "text/plain": [
       "<a name=\"4719838\"></a>"
      ]
     },
     "execution_count": 15,
     "metadata": {},
     "output_type": "execute_result"
    }
   ],
   "source": [
    "anchorPost"
   ]
  },
  {
   "cell_type": "code",
   "execution_count": 16,
   "metadata": {},
   "outputs": [],
   "source": [
    "postRow = anchorPost.parent.parent.parent"
   ]
  },
  {
   "cell_type": "code",
   "execution_count": 41,
   "metadata": {},
   "outputs": [],
   "source": [
    "postbody = postRow.find_all(['span', 'td'], {'class': ['postbody', 'genmed', 'quote']})\n",
    "postdetails = postRow.find_all('span', {'class': 'postdetails'})"
   ]
  },
  {
   "cell_type": "code",
   "execution_count": 35,
   "metadata": {},
   "outputs": [],
   "source": [
    "postdetail = postdetails[1]"
   ]
  },
  {
   "cell_type": "code",
   "execution_count": 36,
   "metadata": {},
   "outputs": [],
   "source": [
    "import re"
   ]
  },
  {
   "cell_type": "code",
   "execution_count": 37,
   "metadata": {},
   "outputs": [
    {
     "name": "stdout",
     "output_type": "stream",
     "text": [
      "Wed, 25. Jul 18, 16:33\n",
      "Re: Bunch of technical questions related to weapons/shields\n"
     ]
    }
   ],
   "source": [
    "x = re.findall('Posted: (.+)Post subject: (.+)', postdetail.text)[0]\n",
    "print(x[0].rstrip()) # publication date\n",
    "print(x[1].rstrip()) # topic title"
   ]
  },
  {
   "cell_type": "code",
   "execution_count": null,
   "metadata": {},
   "outputs": [],
   "source": []
  },
  {
   "cell_type": "code",
   "execution_count": 52,
   "metadata": {},
   "outputs": [
    {
     "name": "stdout",
     "output_type": "stream",
     "text": [
      "['postbody']\n",
      "\n",
      "-----------------------\n",
      "['genmed']\n",
      "mr.WHO wrote:\n",
      "-----------------------\n",
      "['quote']\n",
      "I have a bunch of technical questions regarding X4 ship weapons/equipment.\n",
      "\n",
      "\n",
      "\n",
      "1) Will there be any limit for small ships (fighters) amount of guns and missile launchers? So far on screenshots/video I see fighters with max two guns and max two missiles.\n",
      "-----------------------\n",
      "['postbody']\n",
      "\n",
      "\n",
      "Yes. Number of guns, engines, shield generators, turrets that can be installed is defined on the hull.\n",
      "-----------------------\n",
      "['genmed']\n",
      "mr.WHO wrote:\n",
      "-----------------------\n",
      "['quote']\n",
      "2) Will we be able to set up gun/groups like in X3 (e.g. assign 2 PAC to key1, 4 HEPT to key2)?\n",
      "-----------------------\n",
      "['postbody']\n",
      "\n",
      "\n",
      "Yes, but not sure if you can assign firing of each group to different keys.  There are certainly two groups that are assigned to different keys.  But i think you have to switch between groups before being able to use a key to fire weapons in that group.  Any given weapon can be in several groups.  Not all groups have to be populated.\n",
      "-----------------------\n",
      "['genmed']\n",
      "mr.WHO wrote:\n",
      "-----------------------\n",
      "['quote']\n",
      "3) Will missiles be stored in ship cargo bay like in X3, or there will be dedicated missile space on the ship (e.g. missile pylons, missile bay)?\n",
      "-----------------------\n",
      "['postbody']\n",
      "\n",
      "\n",
      "At the moment, ship hulls have missile storage which are internal bays only for missiles.\n",
      "-----------------------\n",
      "['genmed']\n",
      "mr.WHO wrote:\n",
      "-----------------------\n",
      "['quote']\n",
      "4) Will capital ships use missile ammunition? Or will it be \"fake\" like X-Rebirth, where they eat ammo, but can shoot with 0 ammo.\n",
      "-----------------------\n",
      "['postbody']\n",
      "\n",
      "\n",
      "All ships that fire missiles currently use ammunition and cannot do so when they run out.\n",
      "-----------------------\n",
      "['genmed']\n",
      "mr.WHO wrote:\n",
      "-----------------------\n",
      "['quote']\n",
      "5) Will shield be power-type like X3 (e.g. 200 MJ, 1 GJ) or will they be just a \"generator\" like in X-Rebirth (e.g ships can have max 6 generators equiped in ShipYard).\n",
      "-----------------------\n",
      "['postbody']\n",
      "\n",
      "\n",
      "Not sure i understand your question?  Each ship can have a certain number of shield generators (variable, but max depends on the hull), each shield generator is rated to a certain amount of joules, total effect is cumulative EXCEPT for smaller shield generators that only protect a smaller number of subcomponents.\n",
      "-----------------------\n",
      "['genmed']\n",
      "mr.WHO wrote:\n",
      "-----------------------\n",
      "['quote']\n",
      "6) Will we be able to directly take control of turrets or they will be AI only?\n",
      "-----------------------\n",
      "['postbody']\n",
      "\n",
      "\n",
      "Don't know, sorry.\n",
      "-----------------------\n",
      "['genmed']\n",
      "mr.WHO wrote:\n",
      "-----------------------\n",
      "['quote']\n",
      "7) Will turrets be capable of missile-defence like in X3, or do you plan to make something dedicated for this (e.g. Flares, decoys, dedicated anti-missile turrets)?\n",
      "-----------------------\n",
      "['postbody']\n",
      "\n",
      "\n",
      "The AI currently has a mode for this, but we haven't decided on an interface for the player to activate it yet, so it might still go away.  Countermeasures are also in, these are in addition to turrets doing missile defence.\n",
      "-----------------------\n",
      "['postbody']\n",
      "\n",
      "-----------------------\n"
     ]
    }
   ],
   "source": [
    "for pb in postbody:\n",
    "    print(pb.attrs['class'])\n",
    "    print(pb.getText().rstrip())\n",
    "    print('-----------------------')"
   ]
  },
  {
   "cell_type": "code",
   "execution_count": 57,
   "metadata": {},
   "outputs": [
    {
     "data": {
      "text/plain": [
       "[{'text': 'mr.WHO wrote:', 'type': 'genmed'},\n",
       " {'text': 'I have a bunch of technical questions regarding X4 ship weapons/equipment.\\n\\n\\n\\n1) Will there be any limit for small ships (fighters) amount of guns and missile launchers? So far on screenshots/video I see fighters with max two guns and max two missiles.',\n",
       "  'type': 'quote'},\n",
       " {'text': '\\n\\nYes. Number of guns, engines, shield generators, turrets that can be installed is defined on the hull.',\n",
       "  'type': 'postbody'},\n",
       " {'text': 'mr.WHO wrote:', 'type': 'genmed'},\n",
       " {'text': '2) Will we be able to set up gun/groups like in X3 (e.g. assign 2 PAC to key1, 4 HEPT to key2)?',\n",
       "  'type': 'quote'},\n",
       " {'text': '\\n\\nYes, but not sure if you can assign firing of each group to different keys.  There are certainly two groups that are assigned to different keys.  But i think you have to switch between groups before being able to use a key to fire weapons in that group.  Any given weapon can be in several groups.  Not all groups have to be populated.',\n",
       "  'type': 'postbody'},\n",
       " {'text': 'mr.WHO wrote:', 'type': 'genmed'},\n",
       " {'text': '3) Will missiles be stored in ship cargo bay like in X3, or there will be dedicated missile space on the ship (e.g. missile pylons, missile bay)?',\n",
       "  'type': 'quote'},\n",
       " {'text': '\\n\\nAt the moment, ship hulls have missile storage which are internal bays only for missiles.',\n",
       "  'type': 'postbody'},\n",
       " {'text': 'mr.WHO wrote:', 'type': 'genmed'},\n",
       " {'text': '4) Will capital ships use missile ammunition? Or will it be \"fake\" like X-Rebirth, where they eat ammo, but can shoot with 0 ammo.',\n",
       "  'type': 'quote'},\n",
       " {'text': '\\n\\nAll ships that fire missiles currently use ammunition and cannot do so when they run out.',\n",
       "  'type': 'postbody'},\n",
       " {'text': 'mr.WHO wrote:', 'type': 'genmed'},\n",
       " {'text': '5) Will shield be power-type like X3 (e.g. 200 MJ, 1 GJ) or will they be just a \"generator\" like in X-Rebirth (e.g ships can have max 6 generators equiped in ShipYard).',\n",
       "  'type': 'quote'},\n",
       " {'text': '\\n\\nNot sure i understand your question?  Each ship can have a certain number of shield generators (variable, but max depends on the hull), each shield generator is rated to a certain amount of joules, total effect is cumulative EXCEPT for smaller shield generators that only protect a smaller number of subcomponents.',\n",
       "  'type': 'postbody'},\n",
       " {'text': 'mr.WHO wrote:', 'type': 'genmed'},\n",
       " {'text': '6) Will we be able to directly take control of turrets or they will be AI only?',\n",
       "  'type': 'quote'},\n",
       " {'text': \"\\n\\nDon't know, sorry.\", 'type': 'postbody'},\n",
       " {'text': 'mr.WHO wrote:', 'type': 'genmed'},\n",
       " {'text': '7) Will turrets be capable of missile-defence like in X3, or do you plan to make something dedicated for this (e.g. Flares, decoys, dedicated anti-missile turrets)?',\n",
       "  'type': 'quote'},\n",
       " {'text': \"\\n\\nThe AI currently has a mode for this, but we haven't decided on an interface for the player to activate it yet, so it might still go away.  Countermeasures are also in, these are in addition to turrets doing missile defence.\",\n",
       "  'type': 'postbody'}]"
      ]
     },
     "execution_count": 57,
     "metadata": {},
     "output_type": "execute_result"
    }
   ],
   "source": [
    "[{'type': x['class'][0], 'text': x.getText().rstrip()} for x in postbody if x.getText().rstrip() != '']"
   ]
  },
  {
   "cell_type": "code",
   "execution_count": null,
   "metadata": {},
   "outputs": [],
   "source": []
  }
 ],
 "metadata": {
  "kernelspec": {
   "display_name": "Python 3",
   "language": "python",
   "name": "python3"
  },
  "language_info": {
   "codemirror_mode": {
    "name": "ipython",
    "version": 3
   },
   "file_extension": ".py",
   "mimetype": "text/x-python",
   "name": "python",
   "nbconvert_exporter": "python",
   "pygments_lexer": "ipython3",
   "version": "3.5.5"
  }
 },
 "nbformat": 4,
 "nbformat_minor": 2
}
