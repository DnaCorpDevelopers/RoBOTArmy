{
 "cells": [
  {
   "cell_type": "code",
   "execution_count": null,
   "metadata": {},
   "outputs": [],
   "source": [
    "import discord\n",
    "import random\n",
    "import re\n",
    "import string"
   ]
  },
  {
   "cell_type": "code",
   "execution_count": null,
   "metadata": {},
   "outputs": [],
   "source": [
    "from datetime import datetime"
   ]
  },
  {
   "cell_type": "code",
   "execution_count": null,
   "metadata": {},
   "outputs": [],
   "source": [
    "!pip install beautifulsoup4"
   ]
  },
  {
   "cell_type": "code",
   "execution_count": null,
   "metadata": {},
   "outputs": [],
   "source": [
    "with open('discord-bot-token.txt') as f:\n",
    "    token = f.read().rstrip()"
   ]
  },
  {
   "cell_type": "code",
   "execution_count": null,
   "metadata": {},
   "outputs": [],
   "source": [
    "client = discord.Client()"
   ]
  },
  {
   "cell_type": "code",
   "execution_count": null,
   "metadata": {},
   "outputs": [],
   "source": [
    "def channel():\n",
    "    return discord.Object(id='466564663845453834')"
   ]
  },
  {
   "cell_type": "code",
   "execution_count": null,
   "metadata": {},
   "outputs": [],
   "source": [
    "import asyncio"
   ]
  },
  {
   "cell_type": "code",
   "execution_count": null,
   "metadata": {},
   "outputs": [],
   "source": [
    "async def bip():\n",
    "    await client.send_message(channel(), \"...bip...\")"
   ]
  },
  {
   "cell_type": "code",
   "execution_count": null,
   "metadata": {},
   "outputs": [],
   "source": [
    "async def bipTime():\n",
    "    now = datetime.now()\n",
    "    await client.send_message(channel(), \"...check: \" + str(now) + \"...\")"
   ]
  },
  {
   "cell_type": "code",
   "execution_count": null,
   "metadata": {},
   "outputs": [],
   "source": [
    "async def _run():\n",
    "    for i in range(5):\n",
    "        await bipTime()\n",
    "        await asyncio.sleep(5)"
   ]
  },
  {
   "cell_type": "code",
   "execution_count": null,
   "metadata": {},
   "outputs": [],
   "source": [
    "try:\n",
    "    asyncio.ensure_future(_run())\n",
    "except asyncio.CancelledError:\n",
    "    pass"
   ]
  },
  {
   "cell_type": "code",
   "execution_count": null,
   "metadata": {},
   "outputs": [],
   "source": [
    "async def sendMessage():\n",
    "    try:\n",
    "        now = datetime.now()\n",
    "    \n",
    "        message = 'Lo dici a noi?'\n",
    "        images = 'https://forum.egosoft.com/images/smiles/icon_lol.gif'\n",
    "        embed = discord.Embed(title='post!', type='rich', description='')\n",
    "        # embed.set_image(images)\n",
    "        embed.add_field(name='date', value=str(now), inline=False)\n",
    "        embed.add_field(name='message:', value=message, inline=False)\n",
    "\n",
    "        await client.send_message(channel(), \"bip! bip! bip!...\\n found:\", embed=embed)\n",
    "    except Exception as e:\n",
    "        print(e)"
   ]
  },
  {
   "cell_type": "code",
   "execution_count": null,
   "metadata": {},
   "outputs": [],
   "source": [
    "asyncio.ensure_future(sendMessage())"
   ]
  },
  {
   "cell_type": "code",
   "execution_count": null,
   "metadata": {},
   "outputs": [],
   "source": [
    "async def checkAndSend(f_stop):\n",
    "    now = datetime.now()\n",
    "    print(str(now))\n",
    "    await client.send_message(channel(), \"Check: \" + str(now))\n",
    "    \n",
    "    if not f_stop.is_set():\n",
    "        threading.Timer(10, checkAndSend, [f_stop]).start()"
   ]
  },
  {
   "cell_type": "code",
   "execution_count": null,
   "metadata": {},
   "outputs": [],
   "source": [
    "f_stop = threading.Event()\n",
    "checkAndSend(f_stop)"
   ]
  },
  {
   "cell_type": "code",
   "execution_count": null,
   "metadata": {},
   "outputs": [],
   "source": [
    "# stop the thread when needed\n",
    "f_stop.set()"
   ]
  },
  {
   "cell_type": "code",
   "execution_count": null,
   "metadata": {},
   "outputs": [],
   "source": [
    "@client.event\n",
    "async def on_ready():\n",
    "    channel = client.get_channel('466564663845453834')\n",
    "    print('Logged in as:')\n",
    "    print(client.user.name)\n",
    "    print(client.user.id)\n",
    "    print('In channel:')\n",
    "    print(channel.name, channel.id)\n",
    "    \n",
    "    await client.send_message(channel, \"_Bip... bip... bip..._\")"
   ]
  },
  {
   "cell_type": "code",
   "execution_count": null,
   "metadata": {},
   "outputs": [],
   "source": []
  },
  {
   "cell_type": "code",
   "execution_count": null,
   "metadata": {
    "scrolled": true
   },
   "outputs": [],
   "source": [
    "client.run(token)"
   ]
  },
  {
   "cell_type": "code",
   "execution_count": null,
   "metadata": {},
   "outputs": [],
   "source": []
  }
 ],
 "metadata": {
  "kernelspec": {
   "display_name": "Python 3",
   "language": "python",
   "name": "python3"
  },
  "language_info": {
   "codemirror_mode": {
    "name": "ipython",
    "version": 3
   },
   "file_extension": ".py",
   "mimetype": "text/x-python",
   "name": "python",
   "nbconvert_exporter": "python",
   "pygments_lexer": "ipython3",
   "version": "3.5.5"
  }
 },
 "nbformat": 4,
 "nbformat_minor": 2
}
