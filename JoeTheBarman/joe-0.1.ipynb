{
 "cells": [
  {
   "cell_type": "code",
   "execution_count": 1,
   "metadata": {},
   "outputs": [],
   "source": [
    "import discord"
   ]
  },
  {
   "cell_type": "code",
   "execution_count": 2,
   "metadata": {},
   "outputs": [],
   "source": [
    "import random"
   ]
  },
  {
   "cell_type": "code",
   "execution_count": 3,
   "metadata": {},
   "outputs": [],
   "source": [
    "import re"
   ]
  },
  {
   "cell_type": "code",
   "execution_count": 4,
   "metadata": {},
   "outputs": [],
   "source": [
    "import string"
   ]
  },
  {
   "cell_type": "code",
   "execution_count": 5,
   "metadata": {},
   "outputs": [],
   "source": [
    "with open('discord-bot-token.txt') as f:\n",
    "    token = f.read().rstrip()"
   ]
  },
  {
   "cell_type": "code",
   "execution_count": 6,
   "metadata": {},
   "outputs": [],
   "source": [
    "client = discord.Client()"
   ]
  },
  {
   "cell_type": "code",
   "execution_count": 7,
   "metadata": {},
   "outputs": [],
   "source": [
    "channel = ''"
   ]
  },
  {
   "cell_type": "code",
   "execution_count": 8,
   "metadata": {},
   "outputs": [],
   "source": [
    "drinks = {\n",
    "    'rum': 'Rum',\n",
    "    'gin': 'Gin',\n",
    "    'tequila': 'Tequila',\n",
    "    'soda': 'Soda',\n",
    "    'space whiskey': 'Space Whiskey',\n",
    "    'succo di patate': 'Succo di patate', \n",
    "    'gin tonic': 'Gin Tonic'\n",
    "}"
   ]
  },
  {
   "cell_type": "markdown",
   "metadata": {},
   "source": [
    "Available answers"
   ]
  },
  {
   "cell_type": "code",
   "execution_count": 33,
   "metadata": {},
   "outputs": [],
   "source": [
    "names = ['joe', 'barista', 'barman', 'ehi', 'yo', 'hey', 'hei', 'jo']"
   ]
  },
  {
   "cell_type": "code",
   "execution_count": 10,
   "metadata": {},
   "outputs": [],
   "source": [
    "titles = ['', ' Messere', ' Sir', ' Comandante']"
   ]
  },
  {
   "cell_type": "code",
   "execution_count": 11,
   "metadata": {},
   "outputs": [],
   "source": [
    "orders = [\n",
    "    'Desidera?',\n",
    "    'Si?',\n",
    "    'Mi dica.', \n",
    "    'Vuole ordinare?', \n",
    "    'Mi dica messer {}.', \n",
    "    'Comandante {}, sono a sua disposizione.',\n",
    "    'Ah, {},... mi dica, ma in fretta.',\n",
    "    'Come posso essere utile?',\n",
    "    'Di nuovo?'\n",
    "]"
   ]
  },
  {
   "cell_type": "code",
   "execution_count": 12,
   "metadata": {},
   "outputs": [],
   "source": [
    "thanks = [\n",
    "    'Prego!',\n",
    "    'Di nulla!',\n",
    "    'Alla prossima!',\n",
    "    'Grazie {}, ma sono solo un umile barman ;)'\n",
    "]"
   ]
  },
  {
   "cell_type": "code",
   "execution_count": 13,
   "metadata": {},
   "outputs": [],
   "source": [
    "concorde = [\n",
    "    'a-ah',\n",
    "    'può essere',\n",
    "    'concordo',\n",
    "    'davvero?',\n",
    "    'incredibile!'\n",
    "]"
   ]
  },
  {
   "cell_type": "code",
   "execution_count": 29,
   "metadata": {},
   "outputs": [],
   "source": [
    "incipits = [\n",
    "    'A lei {},',\n",
    "    'Ecco,',\n",
    "    'In arrivo all\\'hangar 42',\n",
    "    'Specialità della casa, '\n",
    "    'Dalla riserva speciale',\n",
    "    'Solo per lei Comandante {}'\n",
    "]"
   ]
  },
  {
   "cell_type": "code",
   "execution_count": 37,
   "metadata": {},
   "outputs": [],
   "source": [
    "drinkings = [\n",
    "    \"un buon bicchiere di {}\",\n",
    "    \"una bottiglia di {} dell'annata buona\",\n",
    "    \"un fusto di {}\",\n",
    "    \"ho appena aperto una bottiglia di {}\"\n",
    "]"
   ]
  },
  {
   "cell_type": "code",
   "execution_count": 38,
   "metadata": {},
   "outputs": [],
   "source": [
    "conclusions = [\n",
    "    \".\",\n",
    "    \", ci vuole anche del ghiaccio?\",\n",
    "    \", altro?\",\n",
    "    \", la metto sul conto del boss?\",\n",
    "    \", offre la casa!\"\n",
    "]"
   ]
  },
  {
   "cell_type": "code",
   "execution_count": 17,
   "metadata": {},
   "outputs": [],
   "source": [
    "notFound = [\n",
    "    'Purtroppo è finito!',\n",
    "    'Qui non serviamo quella robaccia...',\n",
    "    'L\\'ultima bottiglia è finita ier.',\n",
    "    'I trasporti sono in ritardo, ci vorrà un po\\' prima che arrivi nuova merce',\n",
    "    'Finito...',\n",
    "    'Arriva martedì',\n",
    "    'Purtroppo qui non serviamo quella robaccia...',\n",
    "    'Questo è un bar di un certo livello!',\n",
    "    'Mi ritengo offeso da questa richiesta!'\n",
    "]"
   ]
  },
  {
   "cell_type": "code",
   "execution_count": 18,
   "metadata": {},
   "outputs": [],
   "source": [
    "def addDrink(drink):\n",
    "    drinks[drink.lower()] = drink"
   ]
  },
  {
   "cell_type": "code",
   "execution_count": 41,
   "metadata": {},
   "outputs": [],
   "source": [
    "def checkMessage(message):\n",
    "    # must be in the bar\n",
    "    if message.channel.id != channel.id:\n",
    "        return False\n",
    "    \n",
    "    # must not anwer to itself\n",
    "    if message.author == client.user:\n",
    "        return False\n",
    "    \n",
    "    content = message.content.lower()\n",
    "    \n",
    "    # must contain 'joe' or 'barman'\n",
    "    if any(x in content for x in names):\n",
    "        return True\n",
    "    \n",
    "    return False"
   ]
  },
  {
   "cell_type": "code",
   "execution_count": 53,
   "metadata": {},
   "outputs": [
    {
     "name": "stdout",
     "output_type": "stream",
     "text": [
      "['ehi', 'rum']\n",
      "['grazie', 'joe']\n",
      "['e', 'mettere', 'joe', 'su', 'un', 'pc', '']\n",
      "['allora', 'joe', 'che', 'ne', 'pensi', 'di', 'tuo', 'padre']\n",
      "['joe', 'dove', '', 'finito', '']\n",
      "['joe', 'rum', 'per', 'tutti']\n",
      "Logged in as\n",
      "JoeTheBarman\n",
      "467363692850446346\n",
      "🍹bar-da-joe 467294663032963102\n",
      "['joe', 'siamo', 'rimasti', 'soli', 'come', 'ogni', 'sera']\n",
      "['fai', 'il', 'bravo', 'joe']\n",
      "['joe', 'rum']\n",
      "['grazie', 'joe']\n"
     ]
    }
   ],
   "source": [
    "def serveDrinks(message):\n",
    "    content = message.content\n",
    "    clean = re.sub('[^A-Za-z0-9\\ ]+', '', content.lower())\n",
    "    tokens = clean.split(' ')\n",
    "\n",
    "    print(tokens)\n",
    "    \n",
    "    foundDrinks = [d for d in drinks.keys() if d in clean]\n",
    "    mention = message.author.mention\n",
    "    title = random.choice(titles)\n",
    "\n",
    "    if len(tokens) < 3 and len(foundDrinks) == 0:\n",
    "        return random.choice(orders).format(message.author.mention)\n",
    "    \n",
    "    if 'grazie' in tokens:\n",
    "        return random.choice(thanks).format(title)\n",
    "    \n",
    "    if 'drinks' in tokens:\n",
    "        return 'Abbiamo ' + ', '.join(drinks.values())\n",
    "\n",
    "    if len(foundDrinks) < 1:\n",
    "        return random.choice(notFound)\n",
    "        \n",
    "    if 'tutti' in tokens:\n",
    "        return 'Il prossimo giro lo offre {1} {0}!'.format(mention, title)\n",
    "\n",
    "    incipit = random.choice(incipits).format(mention)\n",
    "    drink = random.choice(drinkings).format(drinks[foundDrinks[0]])\n",
    "    conclusion = random.choice(conclusions)\n",
    "\n",
    "    return incipit + ' ' + drink +  ' ' + conclusion\n"
   ]
  },
  {
   "cell_type": "code",
   "execution_count": 50,
   "metadata": {},
   "outputs": [
    {
     "name": "stdout",
     "output_type": "stream",
     "text": [
      "['joe']\n",
      "['barista', 'un', 'giro', 'di', 'rum', 'per', 'tutti']\n",
      "['joe', 'ti', 'sei', 'ripreso']\n",
      "['joe', 'mi', 'pare', 'di', 's']\n",
      "['joe', 'addirittura']\n",
      "['certo', 'joe', 'space', 'whiskey']\n",
      "['quadra', 'che', 'joe', 'lo', 'puoi', 'metere', 'dove', 'vuoi']\n",
      "['ok', 'joe', 'allora', 'gin']\n"
     ]
    }
   ],
   "source": [
    "@client.event\n",
    "async def on_message(message):\n",
    "    if not checkMessage(message):\n",
    "        return\n",
    "    \n",
    "#    if str(message.author) == 'Atlas#3371':\n",
    "#        if random.random() < 0.1:\n",
    "#            msg = 'Messer Atlas, si contenga un minimo!'\n",
    "#    elif str(message.author) == 'Tolihama#7698':\n",
    "#        if random.random() < 0.3:\n",
    "#            msg = 'Lei sì che ne capisce! Che persona colta.'\n",
    "#    else:\n",
    "    msg = serveDrinks(message)\n",
    "\n",
    "    await client.send_message(message.channel, msg)"
   ]
  },
  {
   "cell_type": "code",
   "execution_count": 22,
   "metadata": {},
   "outputs": [],
   "source": [
    "@client.event\n",
    "async def on_ready():\n",
    "    channel = client.get_channel('467294663032963102')\n",
    "    print('Logged in as')\n",
    "    print(client.user.name)\n",
    "    print(client.user.id)\n",
    "    print(channel.name, channel.id)\n",
    "    \n",
    "    await client.send_message(channel, \"Signori, il bar è aperto!\")"
   ]
  },
  {
   "cell_type": "code",
   "execution_count": 23,
   "metadata": {
    "collapsed": true
   },
   "outputs": [
    {
     "ename": "RuntimeError",
     "evalue": "Cannot close a running event loop",
     "traceback": [
      "\u001b[0;31m---------------------------------------------------------------------------\u001b[0m",
      "\u001b[0;31mRuntimeError\u001b[0m                              Traceback (most recent call last)",
      "\u001b[0;32m~/anaconda3/envs/discord/lib/python3.5/site-packages/discord/client.py\u001b[0m in \u001b[0;36mrun\u001b[0;34m(self, *args, **kwargs)\u001b[0m\n\u001b[1;32m    518\u001b[0m         \u001b[0;32mtry\u001b[0m\u001b[0;34m:\u001b[0m\u001b[0;34m\u001b[0m\u001b[0m\n\u001b[0;32m--> 519\u001b[0;31m             \u001b[0mself\u001b[0m\u001b[0;34m.\u001b[0m\u001b[0mloop\u001b[0m\u001b[0;34m.\u001b[0m\u001b[0mrun_until_complete\u001b[0m\u001b[0;34m(\u001b[0m\u001b[0mself\u001b[0m\u001b[0;34m.\u001b[0m\u001b[0mstart\u001b[0m\u001b[0;34m(\u001b[0m\u001b[0;34m*\u001b[0m\u001b[0margs\u001b[0m\u001b[0;34m,\u001b[0m \u001b[0;34m**\u001b[0m\u001b[0mkwargs\u001b[0m\u001b[0;34m)\u001b[0m\u001b[0;34m)\u001b[0m\u001b[0;34m\u001b[0m\u001b[0m\n\u001b[0m\u001b[1;32m    520\u001b[0m         \u001b[0;32mexcept\u001b[0m \u001b[0mKeyboardInterrupt\u001b[0m\u001b[0;34m:\u001b[0m\u001b[0;34m\u001b[0m\u001b[0m\n",
      "\u001b[0;32m~/anaconda3/envs/discord/lib/python3.5/asyncio/base_events.py\u001b[0m in \u001b[0;36mrun_until_complete\u001b[0;34m(self, future)\u001b[0m\n\u001b[1;32m    453\u001b[0m         \u001b[0;32mtry\u001b[0m\u001b[0;34m:\u001b[0m\u001b[0;34m\u001b[0m\u001b[0m\n\u001b[0;32m--> 454\u001b[0;31m             \u001b[0mself\u001b[0m\u001b[0;34m.\u001b[0m\u001b[0mrun_forever\u001b[0m\u001b[0;34m(\u001b[0m\u001b[0;34m)\u001b[0m\u001b[0;34m\u001b[0m\u001b[0m\n\u001b[0m\u001b[1;32m    455\u001b[0m         \u001b[0;32mexcept\u001b[0m\u001b[0;34m:\u001b[0m\u001b[0;34m\u001b[0m\u001b[0m\n",
      "\u001b[0;32m~/anaconda3/envs/discord/lib/python3.5/asyncio/base_events.py\u001b[0m in \u001b[0;36mrun_forever\u001b[0;34m(self)\u001b[0m\n\u001b[1;32m    407\u001b[0m         \u001b[0;32mif\u001b[0m \u001b[0mself\u001b[0m\u001b[0;34m.\u001b[0m\u001b[0mis_running\u001b[0m\u001b[0;34m(\u001b[0m\u001b[0;34m)\u001b[0m\u001b[0;34m:\u001b[0m\u001b[0;34m\u001b[0m\u001b[0m\n\u001b[0;32m--> 408\u001b[0;31m             \u001b[0;32mraise\u001b[0m \u001b[0mRuntimeError\u001b[0m\u001b[0;34m(\u001b[0m\u001b[0;34m'This event loop is already running'\u001b[0m\u001b[0;34m)\u001b[0m\u001b[0;34m\u001b[0m\u001b[0m\n\u001b[0m\u001b[1;32m    409\u001b[0m         \u001b[0;32mif\u001b[0m \u001b[0mevents\u001b[0m\u001b[0;34m.\u001b[0m\u001b[0m_get_running_loop\u001b[0m\u001b[0;34m(\u001b[0m\u001b[0;34m)\u001b[0m \u001b[0;32mis\u001b[0m \u001b[0;32mnot\u001b[0m \u001b[0;32mNone\u001b[0m\u001b[0;34m:\u001b[0m\u001b[0;34m\u001b[0m\u001b[0m\n",
      "\u001b[0;31mRuntimeError\u001b[0m: This event loop is already running",
      "\nDuring handling of the above exception, another exception occurred:\n",
      "\u001b[0;31mRuntimeError\u001b[0m                              Traceback (most recent call last)",
      "\u001b[0;32m<ipython-input-23-b67dcc60e949>\u001b[0m in \u001b[0;36m<module>\u001b[0;34m()\u001b[0m\n\u001b[0;32m----> 1\u001b[0;31m \u001b[0mclient\u001b[0m\u001b[0;34m.\u001b[0m\u001b[0mrun\u001b[0m\u001b[0;34m(\u001b[0m\u001b[0mtoken\u001b[0m\u001b[0;34m)\u001b[0m\u001b[0;34m\u001b[0m\u001b[0m\n\u001b[0m",
      "\u001b[0;32m~/anaconda3/envs/discord/lib/python3.5/site-packages/discord/client.py\u001b[0m in \u001b[0;36mrun\u001b[0;34m(self, *args, **kwargs)\u001b[0m\n\u001b[1;32m    532\u001b[0m                 \u001b[0;32mpass\u001b[0m\u001b[0;34m\u001b[0m\u001b[0m\n\u001b[1;32m    533\u001b[0m         \u001b[0;32mfinally\u001b[0m\u001b[0;34m:\u001b[0m\u001b[0;34m\u001b[0m\u001b[0m\n\u001b[0;32m--> 534\u001b[0;31m             \u001b[0mself\u001b[0m\u001b[0;34m.\u001b[0m\u001b[0mloop\u001b[0m\u001b[0;34m.\u001b[0m\u001b[0mclose\u001b[0m\u001b[0;34m(\u001b[0m\u001b[0;34m)\u001b[0m\u001b[0;34m\u001b[0m\u001b[0m\n\u001b[0m\u001b[1;32m    535\u001b[0m \u001b[0;34m\u001b[0m\u001b[0m\n\u001b[1;32m    536\u001b[0m         \u001b[0;31m# properties\u001b[0m\u001b[0;34m\u001b[0m\u001b[0;34m\u001b[0m\u001b[0m\n",
      "\u001b[0;32m~/anaconda3/envs/discord/lib/python3.5/asyncio/unix_events.py\u001b[0m in \u001b[0;36mclose\u001b[0;34m(self)\u001b[0m\n\u001b[1;32m     61\u001b[0m \u001b[0;34m\u001b[0m\u001b[0m\n\u001b[1;32m     62\u001b[0m     \u001b[0;32mdef\u001b[0m \u001b[0mclose\u001b[0m\u001b[0;34m(\u001b[0m\u001b[0mself\u001b[0m\u001b[0;34m)\u001b[0m\u001b[0;34m:\u001b[0m\u001b[0;34m\u001b[0m\u001b[0m\n\u001b[0;32m---> 63\u001b[0;31m         \u001b[0msuper\u001b[0m\u001b[0;34m(\u001b[0m\u001b[0;34m)\u001b[0m\u001b[0;34m.\u001b[0m\u001b[0mclose\u001b[0m\u001b[0;34m(\u001b[0m\u001b[0;34m)\u001b[0m\u001b[0;34m\u001b[0m\u001b[0m\n\u001b[0m\u001b[1;32m     64\u001b[0m         \u001b[0;32mfor\u001b[0m \u001b[0msig\u001b[0m \u001b[0;32min\u001b[0m \u001b[0mlist\u001b[0m\u001b[0;34m(\u001b[0m\u001b[0mself\u001b[0m\u001b[0;34m.\u001b[0m\u001b[0m_signal_handlers\u001b[0m\u001b[0;34m)\u001b[0m\u001b[0;34m:\u001b[0m\u001b[0;34m\u001b[0m\u001b[0m\n\u001b[1;32m     65\u001b[0m             \u001b[0mself\u001b[0m\u001b[0;34m.\u001b[0m\u001b[0mremove_signal_handler\u001b[0m\u001b[0;34m(\u001b[0m\u001b[0msig\u001b[0m\u001b[0;34m)\u001b[0m\u001b[0;34m\u001b[0m\u001b[0m\n",
      "\u001b[0;32m~/anaconda3/envs/discord/lib/python3.5/asyncio/selector_events.py\u001b[0m in \u001b[0;36mclose\u001b[0;34m(self)\u001b[0m\n\u001b[1;32m    105\u001b[0m     \u001b[0;32mdef\u001b[0m \u001b[0mclose\u001b[0m\u001b[0;34m(\u001b[0m\u001b[0mself\u001b[0m\u001b[0;34m)\u001b[0m\u001b[0;34m:\u001b[0m\u001b[0;34m\u001b[0m\u001b[0m\n\u001b[1;32m    106\u001b[0m         \u001b[0;32mif\u001b[0m \u001b[0mself\u001b[0m\u001b[0;34m.\u001b[0m\u001b[0mis_running\u001b[0m\u001b[0;34m(\u001b[0m\u001b[0;34m)\u001b[0m\u001b[0;34m:\u001b[0m\u001b[0;34m\u001b[0m\u001b[0m\n\u001b[0;32m--> 107\u001b[0;31m             \u001b[0;32mraise\u001b[0m \u001b[0mRuntimeError\u001b[0m\u001b[0;34m(\u001b[0m\u001b[0;34m\"Cannot close a running event loop\"\u001b[0m\u001b[0;34m)\u001b[0m\u001b[0;34m\u001b[0m\u001b[0m\n\u001b[0m\u001b[1;32m    108\u001b[0m         \u001b[0;32mif\u001b[0m \u001b[0mself\u001b[0m\u001b[0;34m.\u001b[0m\u001b[0mis_closed\u001b[0m\u001b[0;34m(\u001b[0m\u001b[0;34m)\u001b[0m\u001b[0;34m:\u001b[0m\u001b[0;34m\u001b[0m\u001b[0m\n\u001b[1;32m    109\u001b[0m             \u001b[0;32mreturn\u001b[0m\u001b[0;34m\u001b[0m\u001b[0m\n",
      "\u001b[0;31mRuntimeError\u001b[0m: Cannot close a running event loop"
     ],
     "output_type": "error"
    },
    {
     "name": "stdout",
     "output_type": "stream",
     "text": [
      "Logged in as\n",
      "JoeTheBarman\n",
      "467363692850446346\n",
      "🍹bar-da-joe 467294663032963102\n"
     ]
    },
    {
     "name": "stderr",
     "output_type": "stream",
     "text": [
      "Ignoring exception in on_message\n",
      "Traceback (most recent call last):\n",
      "  File \"/home/dna/anaconda3/envs/discord/lib/python3.5/site-packages/discord/client.py\", line 307, in _run_event\n",
      "    yield from getattr(self, event)(*args, **kwargs)\n",
      "  File \"<ipython-input-21-3c1469b89d05>\", line 3, in on_message\n",
      "    if not checkMessage(message):\n",
      "  File \"<ipython-input-19-0017de3aa452>\", line 3, in checkMessage\n",
      "    if message.channel.id != channel.id:\n",
      "AttributeError: 'str' object has no attribute 'id'\n",
      "Ignoring exception in on_message\n",
      "Traceback (most recent call last):\n",
      "  File \"/home/dna/anaconda3/envs/discord/lib/python3.5/site-packages/discord/client.py\", line 307, in _run_event\n",
      "    yield from getattr(self, event)(*args, **kwargs)\n",
      "  File \"<ipython-input-21-3c1469b89d05>\", line 3, in on_message\n",
      "    if not checkMessage(message):\n",
      "  File \"<ipython-input-19-0017de3aa452>\", line 3, in checkMessage\n",
      "    if message.channel.id != channel.id:\n",
      "AttributeError: 'str' object has no attribute 'id'\n",
      "Ignoring exception in on_message\n",
      "Traceback (most recent call last):\n",
      "  File \"/home/dna/anaconda3/envs/discord/lib/python3.5/site-packages/discord/client.py\", line 307, in _run_event\n",
      "    yield from getattr(self, event)(*args, **kwargs)\n",
      "  File \"<ipython-input-21-3c1469b89d05>\", line 3, in on_message\n",
      "    if not checkMessage(message):\n",
      "  File \"<ipython-input-19-0017de3aa452>\", line 3, in checkMessage\n",
      "    if message.channel.id != channel.id:\n",
      "AttributeError: 'str' object has no attribute 'id'\n"
     ]
    }
   ],
   "source": [
    "client.run(token)"
   ]
  },
  {
   "cell_type": "code",
   "execution_count": 24,
   "metadata": {},
   "outputs": [
    {
     "name": "stderr",
     "output_type": "stream",
     "text": [
      "Ignoring exception in on_message\n",
      "Traceback (most recent call last):\n",
      "  File \"/home/dna/anaconda3/envs/discord/lib/python3.5/site-packages/discord/client.py\", line 307, in _run_event\n",
      "    yield from getattr(self, event)(*args, **kwargs)\n",
      "  File \"<ipython-input-21-3c1469b89d05>\", line 29, in on_message\n",
      "    await client.send_message(message.channel, msg)\n",
      "  File \"/home/dna/anaconda3/envs/discord/lib/python3.5/site-packages/discord/client.py\", line 1152, in send_message\n",
      "    data = yield from self.http.send_message(channel_id, content, guild_id=guild_id, tts=tts, embed=embed)\n",
      "  File \"/home/dna/anaconda3/envs/discord/lib/python3.5/site-packages/discord/http.py\", line 200, in request\n",
      "    raise HTTPException(r, data)\n",
      "discord.errors.HTTPException: BAD REQUEST (status code: 400): Cannot send an empty message\n"
     ]
    },
    {
     "name": "stdout",
     "output_type": "stream",
     "text": [
      "['joe', 'ci', 'sei']\n",
      "['joe', 'un', 'po', 'di', 'rum']\n"
     ]
    },
    {
     "name": "stderr",
     "output_type": "stream",
     "text": [
      "Ignoring exception in on_message\n",
      "Traceback (most recent call last):\n",
      "  File \"/home/dna/anaconda3/envs/discord/lib/python3.5/site-packages/discord/client.py\", line 307, in _run_event\n",
      "    yield from getattr(self, event)(*args, **kwargs)\n",
      "  File \"<ipython-input-21-3c1469b89d05>\", line 18, in on_message\n",
      "    msg = serveDrinks(message)\n",
      "  File \"<ipython-input-20-6931a843b585>\", line 14, in serveDrinks\n",
      "    incipit = random.choice(incipit).format(mention)\n",
      "UnboundLocalError: local variable 'incipit' referenced before assignment\n"
     ]
    }
   ],
   "source": [
    "channel = client.get_channel('467294663032963102')"
   ]
  },
  {
   "cell_type": "code",
   "execution_count": null,
   "metadata": {},
   "outputs": [],
   "source": []
  }
 ],
 "metadata": {
  "kernelspec": {
   "display_name": "Python 3",
   "language": "python",
   "name": "python3"
  },
  "language_info": {
   "codemirror_mode": {
    "name": "ipython",
    "version": 3
   },
   "file_extension": ".py",
   "mimetype": "text/x-python",
   "name": "python",
   "nbconvert_exporter": "python",
   "pygments_lexer": "ipython3",
   "version": "3.5.5"
  }
 },
 "nbformat": 4,
 "nbformat_minor": 2
}
