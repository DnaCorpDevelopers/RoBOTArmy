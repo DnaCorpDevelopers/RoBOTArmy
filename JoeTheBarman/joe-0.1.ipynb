{
 "cells": [
  {
   "cell_type": "code",
   "execution_count": null,
   "metadata": {},
   "outputs": [],
   "source": [
    "import discord"
   ]
  },
  {
   "cell_type": "code",
   "execution_count": null,
   "metadata": {},
   "outputs": [],
   "source": [
    "import random"
   ]
  },
  {
   "cell_type": "code",
   "execution_count": null,
   "metadata": {},
   "outputs": [],
   "source": [
    "import re"
   ]
  },
  {
   "cell_type": "code",
   "execution_count": null,
   "metadata": {},
   "outputs": [],
   "source": [
    "import string"
   ]
  },
  {
   "cell_type": "code",
   "execution_count": null,
   "metadata": {},
   "outputs": [],
   "source": [
    "with open('discord-bot-token.txt') as f:\n",
    "    token = f.read().rstrip()"
   ]
  },
  {
   "cell_type": "code",
   "execution_count": null,
   "metadata": {},
   "outputs": [],
   "source": [
    "client = discord.Client()"
   ]
  },
  {
   "cell_type": "code",
   "execution_count": null,
   "metadata": {},
   "outputs": [],
   "source": [
    "channel = ''"
   ]
  },
  {
   "cell_type": "code",
   "execution_count": null,
   "metadata": {},
   "outputs": [],
   "source": [
    "drinks = {\n",
    "    'rum': 'Rum',\n",
    "    'gin': 'Gin',\n",
    "    'tequila': 'Tequila',\n",
    "    'soda': 'Soda',\n",
    "    'space whiskey': 'Space Whiskey',\n",
    "    'succo di patate': 'Succo di patate', \n",
    "    'gin tonic': 'Gin Tonic'\n",
    "}"
   ]
  },
  {
   "cell_type": "markdown",
   "metadata": {},
   "source": [
    "Available answers"
   ]
  },
  {
   "cell_type": "code",
   "execution_count": null,
   "metadata": {},
   "outputs": [],
   "source": [
    "names = ['joe', 'barista', 'barman', 'ehi', 'yo', 'hey', 'hei', 'jo']"
   ]
  },
  {
   "cell_type": "code",
   "execution_count": null,
   "metadata": {},
   "outputs": [],
   "source": [
    "titles = ['', ' Messere', ' Sir', ' Comandante']"
   ]
  },
  {
   "cell_type": "code",
   "execution_count": null,
   "metadata": {},
   "outputs": [],
   "source": [
    "orders = [\n",
    "    'Desidera?',\n",
    "    'Si?',\n",
    "    'Mi dica.', \n",
    "    'Vuole ordinare?', \n",
    "    'Mi dica messer {}.', \n",
    "    'Comandante {}, sono a sua disposizione.',\n",
    "    'Ah, {},... mi dica, ma in fretta.',\n",
    "    'Come posso essere utile?',\n",
    "    'Di nuovo?'\n",
    "]"
   ]
  },
  {
   "cell_type": "code",
   "execution_count": null,
   "metadata": {},
   "outputs": [],
   "source": [
    "thanks = [\n",
    "    'Prego!',\n",
    "    'Di nulla!',\n",
    "    'Alla prossima!',\n",
    "    'Grazie {}, ma sono solo un umile barman ;)'\n",
    "]"
   ]
  },
  {
   "cell_type": "code",
   "execution_count": null,
   "metadata": {},
   "outputs": [],
   "source": [
    "concorde = [\n",
    "    'a-ah',\n",
    "    'può essere',\n",
    "    'concordo',\n",
    "    'davvero?',\n",
    "    'incredibile!'\n",
    "]"
   ]
  },
  {
   "cell_type": "code",
   "execution_count": null,
   "metadata": {},
   "outputs": [],
   "source": [
    "incipits = [\n",
    "    'A lei {},',\n",
    "    'Ecco,',\n",
    "    'In arrivo all\\'hangar 42',\n",
    "    'Specialità della casa, '\n",
    "    'Dalla riserva speciale',\n",
    "    'Solo per lei Comandante {}'\n",
    "]"
   ]
  },
  {
   "cell_type": "code",
   "execution_count": null,
   "metadata": {},
   "outputs": [],
   "source": [
    "drinkings = [\n",
    "    \"un buon bicchiere di {}\",\n",
    "    \"una bottiglia di {} dell'annata buona\",\n",
    "    \"un fusto di {}\",\n",
    "    \"ho appena aperto una bottiglia di {}\"\n",
    "]"
   ]
  },
  {
   "cell_type": "code",
   "execution_count": null,
   "metadata": {},
   "outputs": [],
   "source": [
    "conclusions = [\n",
    "    \".\",\n",
    "    \", ci vuole anche del ghiaccio?\",\n",
    "    \", altro?\",\n",
    "    \", la metto sul conto del boss?\",\n",
    "    \", offre la casa!\"\n",
    "]"
   ]
  },
  {
   "cell_type": "code",
   "execution_count": null,
   "metadata": {},
   "outputs": [],
   "source": [
    "notFound = [\n",
    "    'Purtroppo è finito!',\n",
    "    'Qui non serviamo quella robaccia...',\n",
    "    'L\\'ultima bottiglia è finita ier.',\n",
    "    'I trasporti sono in ritardo, ci vorrà un po\\' prima che arrivi nuova merce',\n",
    "    'Finito...',\n",
    "    'Arriva martedì',\n",
    "    'Purtroppo qui non serviamo quella robaccia...',\n",
    "    'Questo è un bar di un certo livello!',\n",
    "    'Mi ritengo offeso da questa richiesta!'\n",
    "]"
   ]
  },
  {
   "cell_type": "code",
   "execution_count": null,
   "metadata": {},
   "outputs": [],
   "source": [
    "def addDrink(drink):\n",
    "    drinks[drink.lower()] = drink"
   ]
  },
  {
   "cell_type": "code",
   "execution_count": null,
   "metadata": {},
   "outputs": [],
   "source": [
    "def checkMessage(message):\n",
    "    # must be in the bar\n",
    "    if message.channel.id != channel.id:\n",
    "        return False\n",
    "    \n",
    "    # must not anwer to itself\n",
    "    if message.author == client.user:\n",
    "        return False\n",
    "    \n",
    "    content = message.content.lower()\n",
    "    \n",
    "    # must contain 'joe' or 'barman'\n",
    "    if any(x in content for x in names):\n",
    "        return True\n",
    "    \n",
    "    return False"
   ]
  },
  {
   "cell_type": "code",
   "execution_count": null,
   "metadata": {},
   "outputs": [],
   "source": [
    "def serveDrinks(message):\n",
    "    content = message.content\n",
    "    clean = re.sub('[^A-Za-z0-9\\ ]+', '', content.lower())\n",
    "    tokens = clean.split(' ')\n",
    "\n",
    "    print(tokens)\n",
    "    \n",
    "    foundDrinks = [d for d in drinks.keys() if d in clean]\n",
    "    mention = message.author.mention\n",
    "    title = random.choice(titles)\n",
    "\n",
    "    if len(tokens) < 3 and len(foundDrinks) == 0:\n",
    "        return random.choice(orders).format(message.author.mention)\n",
    "    \n",
    "    if 'grazie' in tokens:\n",
    "        return random.choice(thanks).format(title)\n",
    "    \n",
    "    if 'drinks' in tokens:\n",
    "        return 'Abbiamo ' + ', '.join(drinks.values())\n",
    "\n",
    "    if len(foundDrinks) < 1:\n",
    "        return random.choice(notFound)\n",
    "        \n",
    "    if 'tutti' in tokens:\n",
    "        return 'Il prossimo giro lo offre {1} {0}!'.format(mention, title)\n",
    "\n",
    "    incipit = random.choice(incipits).format(mention)\n",
    "    drink = random.choice(drinkings).format(drinks[foundDrinks[0]])\n",
    "    conclusion = random.choice(conclusions)\n",
    "\n",
    "    return incipit + ' ' + drink +  ' ' + conclusion\n"
   ]
  },
  {
   "cell_type": "code",
   "execution_count": null,
   "metadata": {},
   "outputs": [],
   "source": [
    "@client.event\n",
    "async def on_message(message):\n",
    "    if not checkMessage(message):\n",
    "        return\n",
    "    \n",
    "#    if str(message.author) == 'Atlas#3371':\n",
    "#        if random.random() < 0.1:\n",
    "#            msg = 'Messer Atlas, si contenga un minimo!'\n",
    "#    elif str(message.author) == 'Tolihama#7698':\n",
    "#        if random.random() < 0.3:\n",
    "#            msg = 'Lei sì che ne capisce! Che persona colta.'\n",
    "#    else:\n",
    "    msg = serveDrinks(message)\n",
    "\n",
    "    await client.send_message(message.channel, msg)"
   ]
  },
  {
   "cell_type": "code",
   "execution_count": null,
   "metadata": {},
   "outputs": [],
   "source": [
    "@client.event\n",
    "async def on_ready():\n",
    "    channel = client.get_channel('467294663032963102')\n",
    "    print('Logged in as')\n",
    "    print(client.user.name)\n",
    "    print(client.user.id)\n",
    "    print(channel.name, channel.id)\n",
    "    \n",
    "    await client.send_message(channel, \"Signori, il bar è aperto!\")"
   ]
  },
  {
   "cell_type": "code",
   "execution_count": null,
   "metadata": {},
   "outputs": [],
   "source": [
    "client.run(token)"
   ]
  },
  {
   "cell_type": "code",
   "execution_count": null,
   "metadata": {},
   "outputs": [],
   "source": [
    "channel = client.get_channel('467294663032963102')"
   ]
  },
  {
   "cell_type": "code",
   "execution_count": null,
   "metadata": {},
   "outputs": [],
   "source": []
  }
 ],
 "metadata": {
  "kernelspec": {
   "display_name": "Python 3",
   "language": "python",
   "name": "python3"
  },
  "language_info": {
   "codemirror_mode": {
    "name": "ipython",
    "version": 3
   },
   "file_extension": ".py",
   "mimetype": "text/x-python",
   "name": "python",
   "nbconvert_exporter": "python",
   "pygments_lexer": "ipython3",
   "version": "3.5.5"
  }
 },
 "nbformat": 4,
 "nbformat_minor": 2
}
